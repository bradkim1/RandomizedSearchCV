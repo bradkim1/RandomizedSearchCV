{
  "nbformat": 4,
  "nbformat_minor": 0,
  "metadata": {
    "colab": {
      "provenance": [],
      "authorship_tag": "ABX9TyN566uNrsiwD+JRzJmX6MHB",
      "include_colab_link": true
    },
    "kernelspec": {
      "name": "python3",
      "display_name": "Python 3"
    },
    "language_info": {
      "name": "python"
    }
  },
  "cells": [
    {
      "cell_type": "markdown",
      "metadata": {
        "id": "view-in-github",
        "colab_type": "text"
      },
      "source": [
        "<a href=\"https://colab.research.google.com/github/bradkim1/RandomizedSearchCV/blob/main/Untitled2.ipynb\" target=\"_parent\"><img src=\"https://colab.research.google.com/assets/colab-badge.svg\" alt=\"Open In Colab\"/></a>"
      ]
    },
    {
      "cell_type": "code",
      "execution_count": 2,
      "metadata": {
        "colab": {
          "base_uri": "https://localhost:8080/"
        },
        "id": "WjBpyuKxQ9Bw",
        "outputId": "1341ffbe-425d-4ffa-fe24-e21f36de1fad"
      },
      "outputs": [
        {
          "output_type": "stream",
          "name": "stdout",
          "text": [
            "Fitting 5 folds for each of 100 candidates, totalling 500 fits\n",
            "Best Parameters: {'max_depth': 40, 'min_samples_split': 7, 'n_estimators': 37}\n",
            "Best Cross-Validation Score: 0.9523809523809523\n",
            "Test Set Score: 1.0\n"
          ]
        }
      ],
      "source": [
        "import numpy as np\n",
        "from sklearn.datasets import load_iris\n",
        "from sklearn.model_selection import train_test_split, RandomizedSearchCV\n",
        "from sklearn.ensemble import RandomForestClassifier\n",
        "from scipy.stats import randint\n",
        "\n",
        "# Load the Iris dataset\n",
        "iris = load_iris()\n",
        "X = iris.data\n",
        "y = iris.target\n",
        "\n",
        "# Split the dataset into training and testing sets\n",
        "X_train, X_test, y_train, y_test = train_test_split(X, y, test_size=0.3, random_state=42)\n",
        "\n",
        "# Define the model\n",
        "model = RandomForestClassifier()\n",
        "\n",
        "# Define the parameter distributions\n",
        "param_distributions = {\n",
        "    'n_estimators': randint(10, 200),\n",
        "    'max_depth': [None, 10, 20, 30, 40, 50],\n",
        "    'min_samples_split': randint(2, 20)\n",
        "}\n",
        "\n",
        "# Initialize RandomizedSearchCV\n",
        "random_search = RandomizedSearchCV(\n",
        "    estimator=model,\n",
        "    param_distributions=param_distributions,\n",
        "    n_iter=100,  # Number of parameter settings that are sampled\n",
        "    scoring='accuracy',  # Metric to evaluate the model\n",
        "    n_jobs=-1,  # Use all available processors\n",
        "    cv=5,  # 5-fold cross-validation\n",
        "    verbose=1,  # Output verbosity\n",
        "    random_state=42,  # Ensures reproducibility\n",
        "    return_train_score=True\n",
        ")\n",
        "\n",
        "# Fit the model\n",
        "random_search.fit(X_train, y_train)\n",
        "\n",
        "# Print the best parameters and the best score\n",
        "print(f\"Best Parameters: {random_search.best_params_}\")\n",
        "print(f\"Best Cross-Validation Score: {random_search.best_score_}\")\n",
        "\n",
        "# Evaluate the model on the test set\n",
        "best_model = random_search.best_estimator_\n",
        "test_score = best_model.score(X_test, y_test)\n",
        "print(f\"Test Set Score: {test_score}\")\n"
      ]
    }
  ]
}